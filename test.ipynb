{
 "cells": [
  {
   "cell_type": "code",
   "execution_count": 1,
   "metadata": {},
   "outputs": [],
   "source": [
    "import time\n",
    "import requests"
   ]
  },
  {
   "cell_type": "code",
   "execution_count": 3,
   "metadata": {},
   "outputs": [
    {
     "name": "stdout",
     "output_type": "stream",
     "text": [
      "Chat with the model! Type 'quit' to end the chat.\n",
      "\n",
      "Query: hi there\n",
      "Time taken to first chunk: 0.78 seconds\n",
      "Response:\n",
      "👋 Hello! I'm Medibot, your AI Assistant for medical-related queries. I'm here to help you with doctor recommendations, medication suggestions, or general treatment steps. What's on your mind? 🤔\n",
      "Error: 400, {\n",
      "  \"error\": \"Question is required\"\n",
      "}\n",
      "\n",
      "Exiting the chat. Goodbye!\n"
     ]
    }
   ],
   "source": [
    "def model_chat():\n",
    "    \"\"\"\n",
    "    Function to continuously chat with a Flask-based model via API.\n",
    "    Processes and displays streamed responses in real time.\n",
    "    \"\"\"\n",
    "    url = \"http://127.0.0.1:5000/generate\"  # Ensure the port matches your Flask app\n",
    "\n",
    "    print(\"Chat with the model! Type 'quit' to end the chat.\")\n",
    "\n",
    "    while(True):\n",
    "        question = input(\"Enter your query : \")\n",
    "        \n",
    "        if question.lower().strip('\"') == \"quit\":\n",
    "            print(\"Exiting the chat. Goodbye!\")\n",
    "            return\n",
    "\n",
    "        data = {\"question\": question.strip('\"')}  # Prepare payload\n",
    "\n",
    "        try:\n",
    "            start = time.time()  # Start measuring time\n",
    "            response = requests.post(url, json=data, stream=True)  # Enable streaming\n",
    "\n",
    "            if response.status_code == 200:\n",
    "                print(f\"\\nQuery: {data['question']}\")\n",
    "                print(f\"Time taken to first chunk: {time.time() - start:.2f} seconds\")\n",
    "                print(\"Response:\")\n",
    "\n",
    "                # Stream the response incrementally\n",
    "                for chunk in response.iter_lines(decode_unicode=True):\n",
    "                    print(chunk, end='\\n', flush=True)  # Print in real-time without newline\n",
    "            else:\n",
    "                print(f\"Error: {response.status_code}, {response.text}\")\n",
    "        except requests.exceptions.RequestException as e:\n",
    "            print(f\"Request failed: {e}\")\n",
    "\n",
    "# Example Run\n",
    "if __name__ == \"__main__\":\n",
    "    model_chat()\n"
   ]
  },
  {
   "cell_type": "code",
   "execution_count": null,
   "metadata": {},
   "outputs": [],
   "source": []
  }
 ],
 "metadata": {
  "kernelspec": {
   "display_name": "Python 3",
   "language": "python",
   "name": "python3"
  },
  "language_info": {
   "codemirror_mode": {
    "name": "ipython",
    "version": 3
   },
   "file_extension": ".py",
   "mimetype": "text/x-python",
   "name": "python",
   "nbconvert_exporter": "python",
   "pygments_lexer": "ipython3",
   "version": "3.11.9"
  }
 },
 "nbformat": 4,
 "nbformat_minor": 2
}
